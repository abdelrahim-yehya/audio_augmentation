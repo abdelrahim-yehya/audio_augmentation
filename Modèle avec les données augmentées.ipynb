{
 "cells": [
  {
   "cell_type": "code",
   "execution_count": 1,
   "id": "a817717b",
   "metadata": {},
   "outputs": [],
   "source": [
    "import os\n",
    "from matplotlib import pyplot as plt\n",
    "import pandas as pd \n",
    "import numpy as np\n",
    "import seaborn as sns \n",
    "import scipy.io\n",
    "import librosa\n",
    "import librosa.display\n",
    "from glob import glob\n",
    "import os\n",
    "import tensorflow as tf\n",
    "import IPython.display as ipd\n",
    "from PIL import Image,ImageEnhance,ImageChops"
   ]
  },
  {
   "cell_type": "code",
   "execution_count": 2,
   "id": "34537a39",
   "metadata": {},
   "outputs": [],
   "source": [
    "#import os\n",
    "#os.environ[\"CUDA_VISIBLE_DEVICES\"] = \"-1\""
   ]
  },
  {
   "cell_type": "code",
   "execution_count": 3,
   "id": "834e6d9a",
   "metadata": {},
   "outputs": [],
   "source": [
    "def preprocess(file_path): \n",
    "    wav , sr = librosa.load(file_path,sr=16000)\n",
    "    l=len(wav)\n",
    "    wav = wav[:50000]\n",
    "    zero_padding = tf.zeros([50000] - tf.shape(wav), dtype=tf.float32)\n",
    "    wav = tf.concat([zero_padding, wav],0)\n",
    "    spectrogram = tf.signal.stft(wav, frame_length=320, frame_step=32)\n",
    "    spectrogram = tf.abs(spectrogram)\n",
    "    spectrogram = tf.expand_dims(spectrogram, axis=2)\n",
    "    return spectrogram , l"
   ]
  },
  {
   "cell_type": "code",
   "execution_count": 4,
   "id": "8032b749",
   "metadata": {},
   "outputs": [],
   "source": [
    "def autoAugment(x,n=1):\n",
    "    img =Image.fromarray(np.uint8(tf.transpose(x)[0] * 255) , 'L')\n",
    "    for i in (0,n):\n",
    "        angle=np.random.randint(0,360)\n",
    "        factor=np.random.randint(-2,2)\n",
    "        enhancer = ImageEnhance.Contrast(img)\n",
    "        img_aug=img.rotate(angle)\n",
    "        img_aug=enhancer.enhance(factor)\n",
    "        #img_aug=ImageChops.invert(img_aug)\n",
    "        pix = np.array(img_aug,dtype='float32')\n",
    "        pix/=255\n",
    "        pix=tf.transpose(pix)\n",
    "        pix=tf.expand_dims(pix, axis=2)\n",
    "        #pix=tf.convert_to_tensor(pix)\n",
    "    return pix    "
   ]
  },
  {
   "cell_type": "code",
   "execution_count": 5,
   "id": "d95c8397",
   "metadata": {},
   "outputs": [],
   "source": [
    "GUITAR = os.path.join('Data', 'AudioEventDataset','train', 'acoustic_guitar')\n",
    "#AIRPLANE = os.path.join('Data', 'AudioEventDataset','train', 'airplane')\n",
    "APPLAUSE = os.path.join('Data', 'AudioEventDataset','train', 'applause')\n",
    "#BIRD = os.path.join('Data', 'AudioEventDataset','train', 'bird')\n",
    "KNOCK=os.path.join('Data','AudioEventDataset','train','knock')\n",
    "#GLASS = os.path.join('Data', 'AudioEventDataset','train', 'glass_breaking')\n",
    "#CAT = os.path.join('Data', 'AudioEventDataset','train', 'cat')\n",
    "#CHILD = os.path.join('Data', 'AudioEventDataset','train', 'child')\n",
    "#WATER= os.path.join('Data', 'AudioEventDataset','train', 'water_tap')\n",
    "#CROWD = os.path.join('Data', 'AudioEventDataset','train', 'crowd')\n",
    "DOG = os.path.join('Data', 'AudioEventDataset','train', 'dog_barking')\n",
    "VIOLIN = os.path.join('Data', 'AudioEventDataset','train', 'violin')"
   ]
  },
  {
   "cell_type": "code",
   "execution_count": 6,
   "id": "4c24c8a7",
   "metadata": {},
   "outputs": [],
   "source": [
    "lengths = []\n",
    "extracted_features =[]\n",
    "for track in glob(os.path.join(GUITAR, '*.wav')):\n",
    "    data,l=preprocess(track)\n",
    "    aug_data=autoAugment(data)\n",
    "    extracted_features.append([aug_data,'acoustic'])\n",
    "    extracted_features.append([data,\"acoustic\"])\n",
    "    lengths.append(l)\n",
    "    \n",
    "#for track in glob(os.path.join(AIRPLANE, '*.wav')):\n",
    "#    data,l=preprocess(track)\n",
    "#    extracted_features.append([data,\"airplane\"])\n",
    "#    lengths.append(l)\n",
    "    \n",
    "for track in glob(os.path.join(APPLAUSE, '*.wav')):\n",
    "    data,l=preprocess(track)\n",
    "    extracted_features.append([data,\"applause\"])\n",
    "    lengths.append(l)\n",
    "#\n",
    "#for track in glob(os.path.join(GLASS, '*.wav')):\n",
    "#    dadata,lta=preprocess(track)\n",
    "#    aug_data=autoAugment(data)\n",
    "#    extracted_features.append([aug_data,'glass'])\n",
    "#    aug_data=autoAugment(data)\n",
    "#    extracted_features.append([aug_data,'glass'])\n",
    "#    extracted_features.append([data,\"glass\"])\n",
    "#    lengths.append(l)\n",
    "\n",
    "for track in glob(os.path.join(KNOCK, '*.wav')):\n",
    "     data,l=preprocess(track)\n",
    "     aug_data=autoAugment(data)\n",
    "     extracted_features.append([aug_data,'knock'])\n",
    "     aug_data=autoAugment(data)\n",
    "     extracted_features.append([aug_data,'knock'])\n",
    "     extracted_features.append([data,\"knock\"])\n",
    "     lengths.append(l)\n",
    "\n",
    "#for track in glob(os.path.join(CAT, '*.wav')):\n",
    "#     data,l=preprocess(track)\n",
    "#     aug_data=autoAugment(data)\n",
    "#     extracted_features.append([aug_data,'cat'])\n",
    "#     extracted_features.append([data,\"cat\"])\n",
    "#     lengths.append(l)\n",
    "    \n",
    "#for track in glob(os.path.join(CHILD, '*.wav')):\n",
    "#    data,l=preprocess(track)\n",
    "#    extracted_features.append([data,\"child\"])\n",
    "#    lengths.append(l)\n",
    "    \n",
    "#for track in glob(os.path.join(WATER, '*.wav')):\n",
    "#    data,l=preprocess(track)\n",
    "#    aug_data=autoAugment(data)\n",
    "#    extracted_features.append([aug_data,'water'])\n",
    "#    extracted_features.append([data,\"water\"])\n",
    "#    lengths.append(l)\n",
    "    \n",
    "#for track in glob(os.path.join(CROWD, '*.wav')):\n",
    "#     data,l=preprocess(track)\n",
    "#     extracted_features.append([data,\"crowd\"])\n",
    "#     lengths.append(l)\n",
    "    \n",
    "for track in glob(os.path.join(DOG, '*.wav')):\n",
    "    data,l=preprocess(track)\n",
    "    aug_data=autoAugment(data)\n",
    "    extracted_features.append([aug_data,'dog'])\n",
    "    aug_data=autoAugment(data)\n",
    "    extracted_features.append([aug_data,'dog'])\n",
    "    extracted_features.append([data,\"dog\"])\n",
    "    lengths.append(l)\n",
    "    \n",
    "for track in glob(os.path.join(VIOLIN, '*.wav')):\n",
    "    data,l=preprocess(track)\n",
    "    aug_data=autoAugment(data)\n",
    "    extracted_features.append([aug_data,'violin'])\n",
    "    aug_data=autoAugment(data)\n",
    "    extracted_features.append([aug_data,'violin'])\n",
    "    extracted_features.append([data,\"violin\"])\n",
    "    lengths.append(l)"
   ]
  },
  {
   "cell_type": "code",
   "execution_count": 7,
   "id": "8af59504",
   "metadata": {},
   "outputs": [],
   "source": [
    "wav,l=preprocess(GUITAR+'\\\\acoustic_guitar_0.wav')"
   ]
  },
  {
   "cell_type": "code",
   "execution_count": 8,
   "id": "4743802a",
   "metadata": {
    "scrolled": false
   },
   "outputs": [
    {
     "data": {
      "image/png": "[encoded data removed]",
      "text/plain": [
       "<Figure size 720x1440 with 1 Axes>"
      ]
     },
     "metadata": {
      "needs_background": "light"
     },
     "output_type": "display_data"
    }
   ],
   "source": [
    "plt.figure(figsize=(10,20))\n",
    "plt.imshow(tf.transpose(wav)[0])\n",
    "plt.show()"
   ]
  },
  {
   "cell_type": "code",
   "execution_count": 9,
   "id": "623445be",
   "metadata": {
    "scrolled": true
   },
   "outputs": [
    {
     "data": {
      "text/plain": [
       "TensorShape([1553, 257, 1])"
      ]
     },
     "execution_count": 9,
     "metadata": {},
     "output_type": "execute_result"
    }
   ],
   "source": [
    "wav.shape"
   ]
  },
  {
   "cell_type": "code",
   "execution_count": 10,
   "id": "e90cbb5d",
   "metadata": {
    "scrolled": true
   },
   "outputs": [
    {
     "data": {
      "image/png": "[encoded data removed]",
      "text/plain": [
       "<Figure size 432x288 with 1 Axes>"
      ]
     },
     "metadata": {
      "needs_background": "light"
     },
     "output_type": "display_data"
    }
   ],
   "source": [
    "plt.imshow(tf.transpose(wav)[0], interpolation='nearest')\n",
    "plt.show()"
   ]
  },
  {
   "cell_type": "code",
   "execution_count": 11,
   "id": "fe148bea",
   "metadata": {
    "scrolled": false
   },
   "outputs": [],
   "source": [
    "wav=wav.numpy()"
   ]
  },
  {
   "cell_type": "code",
   "execution_count": 12,
   "id": "d30957c4",
   "metadata": {},
   "outputs": [],
   "source": [
    "img =Image.fromarray(np.uint8(tf.transpose(wav)[0] * 255) , 'L')\n",
    "img.save('image_wave.jpeg')"
   ]
  },
  {
   "cell_type": "code",
   "execution_count": 13,
   "id": "8fd4e275",
   "metadata": {},
   "outputs": [],
   "source": [
    "random=np.random.randint(0,360)\n",
    "img_rotate=img.rotate(random)\n",
    "img_rotate.save('image_wave_rotate.jpeg')"
   ]
  },
  {
   "cell_type": "code",
   "execution_count": 14,
   "id": "2e4f70a4",
   "metadata": {},
   "outputs": [],
   "source": [
    "img_inverted=ImageChops.invert(img)\n",
    "img_inverted.save('image_wave_inverted.jpeg')"
   ]
  },
  {
   "cell_type": "code",
   "execution_count": 15,
   "id": "c99552bf",
   "metadata": {},
   "outputs": [],
   "source": [
    "enhancer = ImageEnhance.Contrast(img)\n",
    "img_contrast=enhancer.enhance(2)\n",
    "img_contrast.save('image_wave_contrast.jpeg')"
   ]
  },
  {
   "cell_type": "code",
   "execution_count": 16,
   "id": "7ed4d685",
   "metadata": {},
   "outputs": [],
   "source": [
    "#\n",
    "#pix = np.array(img)\n",
    "#pix=tf.expand_dims(pix, axis=2)"
   ]
  },
  {
   "cell_type": "code",
   "execution_count": 17,
   "id": "115b2361",
   "metadata": {},
   "outputs": [],
   "source": [
    "#plt.figure(figsize=(30,49))\n",
    "#plt.imshow(pix)\n",
    "#plt.show()"
   ]
  },
  {
   "cell_type": "code",
   "execution_count": 18,
   "id": "faf2e423",
   "metadata": {},
   "outputs": [],
   "source": [
    "#enhancer = ImageEnhance.Contrast(img)"
   ]
  },
  {
   "cell_type": "code",
   "execution_count": 19,
   "id": "67b22e13",
   "metadata": {},
   "outputs": [],
   "source": [
    "#contrast\n",
    "#img3=enhancer.enhance(10)\n",
    "#img3.show()"
   ]
  },
  {
   "cell_type": "code",
   "execution_count": 20,
   "id": "d7cab381",
   "metadata": {},
   "outputs": [],
   "source": [
    "#invert\n",
    "#img4=ImageChops.invert(img)\n",
    "#img4.show()"
   ]
  },
  {
   "cell_type": "code",
   "execution_count": 21,
   "id": "4328ae28",
   "metadata": {},
   "outputs": [],
   "source": [
    "#pix = np.array(img3)\n",
    "#pix=tf.expand_dims(pix, axis=2)"
   ]
  },
  {
   "cell_type": "code",
   "execution_count": 22,
   "id": "9471b35f",
   "metadata": {},
   "outputs": [],
   "source": [
    "#plt.figure(figsize=(30,49))\n",
    "#plt.imshow(pix)\n",
    "#plt.show()"
   ]
  },
  {
   "cell_type": "code",
   "execution_count": 23,
   "id": "597fd049",
   "metadata": {},
   "outputs": [],
   "source": [
    "#angle=np.random.randint(0,360)\n",
    "#angle"
   ]
  },
  {
   "cell_type": "code",
   "execution_count": 24,
   "id": "257885d0",
   "metadata": {},
   "outputs": [],
   "source": [
    "#augmented_data=[]\n",
    "#for e in extracted_features:\n",
    "#    d_aug=autoAugment(e[0])\n",
    "#    augmented_data.append([d_aug,e[1]])"
   ]
  },
  {
   "cell_type": "code",
   "execution_count": 25,
   "id": "2aae2216",
   "metadata": {},
   "outputs": [],
   "source": [
    "#augmented_data_df=pd.DataFrame(augmented_data,columns=['features','class'])\n",
    "#augmented_data_df.head()"
   ]
  },
  {
   "cell_type": "code",
   "execution_count": 26,
   "id": "2141888b",
   "metadata": {
    "scrolled": false
   },
   "outputs": [],
   "source": [
    "extracted_features_df=pd.DataFrame(extracted_features,columns=['features','class'])\n",
    "#extracted_features_df.head()"
   ]
  },
  {
   "cell_type": "code",
   "execution_count": 27,
   "id": "dfd2a487",
   "metadata": {},
   "outputs": [],
   "source": [
    "#all_date=pd.concat([extracted_features_df,augmented_data_df],axis=0)"
   ]
  },
  {
   "cell_type": "code",
   "execution_count": 28,
   "id": "38b51bfe",
   "metadata": {},
   "outputs": [],
   "source": [
    "#all_date"
   ]
  },
  {
   "cell_type": "code",
   "execution_count": 29,
   "id": "c42abb1e",
   "metadata": {},
   "outputs": [],
   "source": [
    "#split the dataset into independent and dependent dataset \n",
    "X=np.array(extracted_features_df['features'].tolist())\n",
    "y=np.array(extracted_features_df['class'].tolist())"
   ]
  },
  {
   "cell_type": "code",
   "execution_count": 30,
   "id": "700fa963",
   "metadata": {},
   "outputs": [],
   "source": [
    "#label encoding \n",
    "from tensorflow.keras.utils import to_categorical\n",
    "from sklearn.preprocessing import LabelEncoder\n",
    "labelencoder=LabelEncoder()\n",
    "y=to_categorical(labelencoder.fit_transform(y))"
   ]
  },
  {
   "cell_type": "code",
   "execution_count": 31,
   "id": "3f67fd83",
   "metadata": {},
   "outputs": [],
   "source": [
    "#splitting data \n",
    "from sklearn.model_selection import train_test_split\n",
    "X_train, X_test, y_train, y_test = train_test_split(X, \n",
    "                                                    y,\n",
    "                                                    test_size=0.2,\n",
    "                                                    random_state=0)"
   ]
  },
  {
   "cell_type": "code",
   "execution_count": 32,
   "id": "26cfb25e",
   "metadata": {},
   "outputs": [
    {
     "data": {
      "text/plain": [
       "(1060, 1553, 257, 1)"
      ]
     },
     "execution_count": 32,
     "metadata": {},
     "output_type": "execute_result"
    }
   ],
   "source": [
    "X_train.shape"
   ]
  },
  {
   "cell_type": "code",
   "execution_count": 33,
   "id": "59aa5060",
   "metadata": {},
   "outputs": [],
   "source": [
    "#Number of classes\n",
    "num_classes=y.shape[1]"
   ]
  },
  {
   "cell_type": "code",
   "execution_count": 34,
   "id": "27a6ff23",
   "metadata": {},
   "outputs": [],
   "source": [
    "from tensorflow.keras.models import Sequential\n",
    "from tensorflow.keras.layers import Dense , Dropout ,Activation,Flatten , Conv2D , MaxPooling2D\n",
    "from tensorflow.keras.optimizers import Adam\n",
    "from sklearn import metrics\n",
    "\n",
    "model = Sequential()\n",
    "model.add(Conv2D(16, (3,3), activation='relu', input_shape=(1553, 257,1)))\n",
    "model.add(MaxPooling2D((2,2)))\n",
    "model.add(Conv2D(16, (3,3), activation='relu'))\n",
    "model.add(MaxPooling2D((2,2)))\n",
    "model.add(Flatten())\n",
    "model.add(Dense(128, activation='relu'))\n",
    "model.add(Dense(num_classes, activation='softmax'))"
   ]
  },
  {
   "cell_type": "code",
   "execution_count": 35,
   "id": "f951d82f",
   "metadata": {},
   "outputs": [
    {
     "name": "stdout",
     "output_type": "stream",
     "text": [
      "Model: \"sequential\"\n",
      "_________________________________________________________________\n",
      "Layer (type)                 Output Shape              Param #   \n",
      "=================================================================\n",
      "conv2d (Conv2D)              (None, 1551, 255, 16)     160       \n",
      "_________________________________________________________________\n",
      "max_pooling2d (MaxPooling2D) (None, 775, 127, 16)      0         \n",
      "_________________________________________________________________\n",
      "conv2d_1 (Conv2D)            (None, 773, 125, 16)      2320      \n",
      "_________________________________________________________________\n",
      "max_pooling2d_1 (MaxPooling2 (None, 386, 62, 16)       0         \n",
      "_________________________________________________________________\n",
      "flatten (Flatten)            (None, 382912)            0         \n",
      "_________________________________________________________________\n",
      "dense (Dense)                (None, 128)               49012864  \n",
      "_________________________________________________________________\n",
      "dense_1 (Dense)              (None, 5)                 645       \n",
      "=================================================================\n",
      "Total params: 49,015,989\n",
      "Trainable params: 49,015,989\n",
      "Non-trainable params: 0\n",
      "_________________________________________________________________\n"
     ]
    }
   ],
   "source": [
    "model.summary()"
   ]
  },
  {
   "cell_type": "code",
   "execution_count": 36,
   "id": "ab0b4c36",
   "metadata": {},
   "outputs": [],
   "source": [
    "model.compile(loss='categorical_crossentropy',metrics=[tf.keras.metrics.Recall(),tf.keras.metrics.Precision()],optimizer='adam')"
   ]
  },
  {
   "cell_type": "code",
   "execution_count": 37,
   "id": "3382e4ba",
   "metadata": {},
   "outputs": [
    {
     "name": "stdout",
     "output_type": "stream",
     "text": [
      "Epoch 1/10\n",
      "265/265 [==============================] - 18s 40ms/step - loss: 1.5420 - recall: 0.5245 - precision: 0.7909 - val_loss: 0.6482 - val_recall: 0.6880 - val_precision: 0.8756\n",
      "Epoch 2/10\n",
      "265/265 [==============================] - 10s 37ms/step - loss: 0.6402 - recall: 0.7396 - precision: 0.8991 - val_loss: 0.6743 - val_recall: 0.6391 - val_precision: 0.8252\n",
      "Epoch 3/10\n",
      "265/265 [==============================] - 10s 37ms/step - loss: 0.4104 - recall: 0.8000 - precision: 0.9258 - val_loss: 0.6990 - val_recall: 0.7594 - val_precision: 0.8632\n",
      "Epoch 4/10\n",
      "265/265 [==============================] - 10s 37ms/step - loss: 0.3247 - recall: 0.8406 - precision: 0.9499 - val_loss: 0.4614 - val_recall: 0.7444 - val_precision: 0.9124\n",
      "Epoch 5/10\n",
      "265/265 [==============================] - 10s 37ms/step - loss: 0.2605 - recall: 0.8443 - precision: 0.9624 - val_loss: 0.6710 - val_recall: 0.7970 - val_precision: 0.8870\n",
      "Epoch 6/10\n",
      "265/265 [==============================] - 10s 37ms/step - loss: 0.2116 - recall: 0.8717 - precision: 0.9696 - val_loss: 0.8081 - val_recall: 0.7594 - val_precision: 0.8938\n",
      "Epoch 7/10\n",
      "265/265 [==============================] - 10s 37ms/step - loss: 0.2953 - recall: 0.8604 - precision: 0.9712 - val_loss: 0.4961 - val_recall: 0.7857 - val_precision: 0.9048\n",
      "Epoch 8/10\n",
      "265/265 [==============================] - 10s 37ms/step - loss: 0.2142 - recall: 0.8689 - precision: 0.9850 - val_loss: 0.5963 - val_recall: 0.7481 - val_precision: 0.8690\n",
      "Epoch 9/10\n",
      "265/265 [==============================] - 10s 37ms/step - loss: 0.3043 - recall: 0.8566 - precision: 0.9649 - val_loss: 0.8443 - val_recall: 0.7556 - val_precision: 0.8517\n",
      "Epoch 10/10\n",
      "265/265 [==============================] - 10s 36ms/step - loss: 0.1793 - recall: 0.8745 - precision: 0.9904 - val_loss: 0.7501 - val_recall: 0.7782 - val_precision: 0.8884\n",
      "Training completed in time : 0:01:57.227360\n"
     ]
    }
   ],
   "source": [
    "##Training the model \n",
    "from datetime import datetime\n",
    "\n",
    "num_epochs=10\n",
    "num_batch_size=4\n",
    "start = datetime.now()\n",
    "\n",
    "hist=model.fit(X_train,y_train,batch_size=num_batch_size,epochs=num_epochs,validation_data=(X_test,y_test))\n",
    "duration=datetime.now() - start \n",
    "print(\"Training completed in time :\",duration)"
   ]
  },
  {
   "cell_type": "code",
   "execution_count": 38,
   "id": "9f63ae46",
   "metadata": {},
   "outputs": [],
   "source": [
    "#res=tf.concat(axis=1,values=[extracted_features, augmented_data])"
   ]
  },
  {
   "cell_type": "code",
   "execution_count": 39,
   "id": "d42af9d6",
   "metadata": {},
   "outputs": [],
   "source": [
    "#TEST the model on New Data\n",
    "test_data_path=os.path.join('Data', 'AudioEventDataset','test', 'tracks')\n",
    "testing_data =[]\n",
    "for file in os.listdir(os.path.join(test_data_path)):\n",
    "    FILEPATH=os.path.join(test_data_path,file)\n",
    "    data,_=preprocess(FILEPATH)\n",
    "    file=file.split(\"_\")\n",
    "    testing_data.append([data,file[0]])"
   ]
  },
  {
   "cell_type": "code",
   "execution_count": 40,
   "id": "eee990ba",
   "metadata": {},
   "outputs": [],
   "source": [
    "testing_data=pd.DataFrame(testing_data,columns=['features','class'])"
   ]
  },
  {
   "cell_type": "code",
   "execution_count": 41,
   "id": "7fb082ad",
   "metadata": {},
   "outputs": [],
   "source": [
    "x_test_data=np.array(testing_data['features'].tolist())\n",
    "y_test_data=np.array(testing_data['class'].tolist())\n",
    "labelencoder=LabelEncoder()\n",
    "y_test_data=to_categorical(labelencoder.fit_transform(y_test_data))"
   ]
  },
  {
   "cell_type": "code",
   "execution_count": 46,
   "id": "b0ce5fcb",
   "metadata": {},
   "outputs": [
    {
     "name": "stdout",
     "output_type": "stream",
     "text": [
      "7/7 [==============================] - 0s 59ms/step - loss: 0.8673 - recall: 0.9196 - precision: 0.9196\n"
     ]
    },
    {
     "data": {
      "text/plain": [
       "[0.8672915697097778, 0.9196428656578064, 0.9196428656578064]"
      ]
     },
     "execution_count": 46,
     "metadata": {},
     "output_type": "execute_result"
    }
   ],
   "source": [
    "test_accuracy=model.evaluate(x_test_data,y_test_data)\n",
    "test_accuracy"
   ]
  },
  {
   "cell_type": "code",
   "execution_count": 43,
   "id": "0db2509a",
   "metadata": {},
   "outputs": [
    {
     "data": {
      "text/plain": [
       "{'loss': [1.5420290231704712,\n",
       "  0.6401914358139038,\n",
       "  0.41040897369384766,\n",
       "  0.32467976212501526,\n",
       "  0.2605229318141937,\n",
       "  0.21163073182106018,\n",
       "  0.29528188705444336,\n",
       "  0.2141958624124527,\n",
       "  0.3042961657047272,\n",
       "  0.17925560474395752],\n",
       " 'recall': [0.5245283246040344,\n",
       "  0.7396226525306702,\n",
       "  0.800000011920929,\n",
       "  0.8405660390853882,\n",
       "  0.8443396091461182,\n",
       "  0.8716981410980225,\n",
       "  0.8603773713111877,\n",
       "  0.8688679337501526,\n",
       "  0.8566038012504578,\n",
       "  0.8745282888412476],\n",
       " 'precision': [0.7908961772918701,\n",
       "  0.8990825414657593,\n",
       "  0.9257642030715942,\n",
       "  0.9498934149742126,\n",
       "  0.9623655676841736,\n",
       "  0.9695698022842407,\n",
       "  0.9712460041046143,\n",
       "  0.9850267171859741,\n",
       "  0.9649309515953064,\n",
       "  0.9903846383094788],\n",
       " 'val_loss': [0.6482353210449219,\n",
       "  0.6743051409721375,\n",
       "  0.6990355253219604,\n",
       "  0.461377888917923,\n",
       "  0.6710270643234253,\n",
       "  0.8080896139144897,\n",
       "  0.49611181020736694,\n",
       "  0.5962717533111572,\n",
       "  0.8442556262016296,\n",
       "  0.7500524520874023],\n",
       " 'val_recall': [0.6879699230194092,\n",
       "  0.6390977501869202,\n",
       "  0.7593985199928284,\n",
       "  0.7443609237670898,\n",
       "  0.7969924807548523,\n",
       "  0.7593985199928284,\n",
       "  0.7857142686843872,\n",
       "  0.7481203079223633,\n",
       "  0.7556390762329102,\n",
       "  0.7781955003738403],\n",
       " 'val_precision': [0.8755980730056763,\n",
       "  0.8252426981925964,\n",
       "  0.8632478713989258,\n",
       "  0.9124423861503601,\n",
       "  0.8870292901992798,\n",
       "  0.8938053250312805,\n",
       "  0.9047619104385376,\n",
       "  0.8689956068992615,\n",
       "  0.8516949415206909,\n",
       "  0.8884119987487793]}"
      ]
     },
     "execution_count": 43,
     "metadata": {},
     "output_type": "execute_result"
    }
   ],
   "source": [
    "hist.history"
   ]
  },
  {
   "cell_type": "code",
   "execution_count": 44,
   "id": "782d17b3",
   "metadata": {
    "scrolled": true
   },
   "outputs": [
    {
     "data": {
      "image/png": "[encoded data removed]",
      "text/plain": [
       "<Figure size 432x288 with 1 Axes>"
      ]
     },
     "metadata": {
      "needs_background": "light"
     },
     "output_type": "display_data"
    }
   ],
   "source": [
    "plt.title('Loss')\n",
    "plt.plot(hist.history['loss'], 'r')\n",
    "plt.plot(hist.history['val_loss'], 'b')\n",
    "plt.show()"
   ]
  },
  {
   "cell_type": "code",
   "execution_count": 47,
   "id": "26735a71",
   "metadata": {
    "scrolled": true
   },
   "outputs": [
    {
     "data": {
      "image/png": "[encoded data removed]",
      "text/plain": [
       "<Figure size 432x288 with 1 Axes>"
      ]
     },
     "metadata": {
      "needs_background": "light"
     },
     "output_type": "display_data"
    }
   ],
   "source": [
    "plt.title('Precision')\n",
    "plt.plot(hist.history['precision'], 'r')\n",
    "plt.plot(hist.history['val_precision'], 'b')\n",
    "plt.show()"
   ]
  },
  {
   "cell_type": "code",
   "execution_count": null,
   "id": "7cce875d",
   "metadata": {},
   "outputs": [],
   "source": [
    "classes=list(np.unique(df['class']))\n",
    "class_dist=df.groupby(['class'])['length'].mean()"
   ]
  }
 ],
 "metadata": {
  "kernelspec": {
   "display_name": "Python 3 (ipykernel)",
   "language": "python",
   "name": "python3"
  },
  "language_info": {
   "codemirror_mode": {
    "name": "ipython",
    "version": 3
   },
   "file_extension": ".py",
   "mimetype": "text/x-python",
   "name": "python",
   "nbconvert_exporter": "python",
   "pygments_lexer": "ipython3",
   "version": "3.9.15"
  }
 },
 "nbformat": 4,
 "nbformat_minor": 5
}
